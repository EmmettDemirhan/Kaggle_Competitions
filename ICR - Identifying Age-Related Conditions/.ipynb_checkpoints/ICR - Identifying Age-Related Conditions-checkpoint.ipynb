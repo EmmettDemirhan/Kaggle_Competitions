{
 "cells": [
  {
   "cell_type": "markdown",
   "id": "79fdf0d2",
   "metadata": {
    "papermill": {
     "duration": 0.01002,
     "end_time": "2023-06-05T10:06:46.131509",
     "exception": false,
     "start_time": "2023-06-05T10:06:46.121489",
     "status": "completed"
    },
    "tags": []
   },
   "source": [
    "# ICR - Identifying Age-Related Conditions Dataset with TensorFlow Decision Forests"
   ]
  },
  {
   "cell_type": "markdown",
   "id": "48452665",
   "metadata": {
    "papermill": {
     "duration": 0.009462,
     "end_time": "2023-06-05T10:06:46.150240",
     "exception": false,
     "start_time": "2023-06-05T10:06:46.140778",
     "status": "completed"
    },
    "tags": []
   },
   "source": [
    "This notebook walks you through how to train a baseline Random Forest model using TensorFlow Decision Forests on the ICR - Identifying Age-Related Conditions dataset made available for this competition. The goal of the model is to predict if a person has one or more of any of three medical conditions or none.\n",
    "\n",
    "Roughly, the code will look as follows:\n",
    "\n",
    "```\n",
    "import tensorflow_decision_forests as tfdf\n",
    "import pandas as pd\n",
    "\n",
    "dataset = pd.read_csv(\"project/dataset.csv\")\n",
    "tf_dataset = tfdf.keras.pd_dataframe_to_tf_dataset(dataset, label=\"my_label\")\n",
    "\n",
    "model = tfdf.keras.RandomForestModel()\n",
    "model.fit(tf_dataset)\n",
    "\n",
    "print(model.summary())\n",
    "```\n",
    "\n",
    "Decision Forests are a family of tree-based models including Random Forests and Gradient Boosted Trees. They are the best place to start when working with tabular data, and will often outperform (or provide a strong baseline) before you begin experimenting with neural networks."
   ]
  },
  {
   "cell_type": "markdown",
   "id": "91c21804",
   "metadata": {
    "papermill": {
     "duration": 0.008785,
     "end_time": "2023-06-05T10:06:46.168104",
     "exception": false,
     "start_time": "2023-06-05T10:06:46.159319",
     "status": "completed"
    },
    "tags": []
   },
   "source": [
    "# Import the libraries"
   ]
  },
  {
   "cell_type": "code",
   "execution_count": 1,
   "id": "5fa0b36b",
   "metadata": {
    "execution": {
     "iopub.execute_input": "2023-06-05T10:06:46.188776Z",
     "iopub.status.busy": "2023-06-05T10:06:46.188139Z",
     "iopub.status.idle": "2023-06-05T10:06:59.642022Z",
     "shell.execute_reply": "2023-06-05T10:06:59.641084Z"
    },
    "papermill": {
     "duration": 13.467165,
     "end_time": "2023-06-05T10:06:59.644483",
     "exception": false,
     "start_time": "2023-06-05T10:06:46.177318",
     "status": "completed"
    },
    "tags": []
   },
   "outputs": [
    {
     "ename": "ModuleNotFoundError",
     "evalue": "No module named 'tensorflow_decision_forests'",
     "output_type": "error",
     "traceback": [
      "\u001b[1;31m---------------------------------------------------------------------------\u001b[0m",
      "\u001b[1;31mModuleNotFoundError\u001b[0m                       Traceback (most recent call last)",
      "Cell \u001b[1;32mIn[1], line 2\u001b[0m\n\u001b[0;32m      1\u001b[0m \u001b[38;5;28;01mimport\u001b[39;00m \u001b[38;5;21;01mtensorflow\u001b[39;00m \u001b[38;5;28;01mas\u001b[39;00m \u001b[38;5;21;01mtf\u001b[39;00m\n\u001b[1;32m----> 2\u001b[0m \u001b[38;5;28;01mimport\u001b[39;00m \u001b[38;5;21;01mtensorflow_decision_forests\u001b[39;00m \u001b[38;5;28;01mas\u001b[39;00m \u001b[38;5;21;01mtfdf\u001b[39;00m\n\u001b[0;32m      3\u001b[0m \u001b[38;5;28;01mimport\u001b[39;00m \u001b[38;5;21;01mpandas\u001b[39;00m \u001b[38;5;28;01mas\u001b[39;00m \u001b[38;5;21;01mpd\u001b[39;00m\n\u001b[0;32m      4\u001b[0m \u001b[38;5;28;01mimport\u001b[39;00m \u001b[38;5;21;01mnumpy\u001b[39;00m \u001b[38;5;28;01mas\u001b[39;00m \u001b[38;5;21;01mnp\u001b[39;00m\n",
      "\u001b[1;31mModuleNotFoundError\u001b[0m: No module named 'tensorflow_decision_forests'"
     ]
    }
   ],
   "source": [
    "import tensorflow as tf\n",
    "import tensorflow_decision_forests as tfdf\n",
    "import pandas as pd\n",
    "import numpy as np\n",
    "import seaborn as sns\n",
    "import matplotlib.pyplot as plt\n",
    "\n",
    "from sklearn.model_selection import KFold"
   ]
  },
  {
   "cell_type": "code",
   "execution_count": null,
   "id": "f323a06d",
   "metadata": {
    "execution": {
     "iopub.execute_input": "2023-06-05T10:06:59.667673Z",
     "iopub.status.busy": "2023-06-05T10:06:59.665668Z",
     "iopub.status.idle": "2023-06-05T10:06:59.674239Z",
     "shell.execute_reply": "2023-06-05T10:06:59.671914Z"
    },
    "papermill": {
     "duration": 0.022571,
     "end_time": "2023-06-05T10:06:59.676965",
     "exception": false,
     "start_time": "2023-06-05T10:06:59.654394",
     "status": "completed"
    },
    "tags": []
   },
   "outputs": [],
   "source": [
    "print(\"TensorFlow v\" + tf.__version__)\n",
    "print(\"TensorFlow Decision Forests v\" + tfdf.__version__)"
   ]
  },
  {
   "cell_type": "markdown",
   "id": "5a24d982",
   "metadata": {
    "papermill": {
     "duration": 0.009721,
     "end_time": "2023-06-05T10:06:59.696796",
     "exception": false,
     "start_time": "2023-06-05T10:06:59.687075",
     "status": "completed"
    },
    "tags": []
   },
   "source": [
    "# Load the Dataset"
   ]
  },
  {
   "cell_type": "code",
   "execution_count": null,
   "id": "3844fe1b",
   "metadata": {
    "execution": {
     "iopub.execute_input": "2023-06-05T10:06:59.718571Z",
     "iopub.status.busy": "2023-06-05T10:06:59.718174Z",
     "iopub.status.idle": "2023-06-05T10:06:59.756319Z",
     "shell.execute_reply": "2023-06-05T10:06:59.754487Z"
    },
    "papermill": {
     "duration": 0.052321,
     "end_time": "2023-06-05T10:06:59.758964",
     "exception": false,
     "start_time": "2023-06-05T10:06:59.706643",
     "status": "completed"
    },
    "tags": []
   },
   "outputs": [],
   "source": [
    "dataset_df = pd.read_csv('data/train.csv')\n",
    "test_df = pd.read_csv('data/test.csv')\n",
    "print(\"Full train dataset shape is {}\".format(dataset_df.shape))"
   ]
  },
  {
   "cell_type": "markdown",
   "id": "0ba79e9d",
   "metadata": {
    "papermill": {
     "duration": 0.009865,
     "end_time": "2023-06-05T10:06:59.779209",
     "exception": false,
     "start_time": "2023-06-05T10:06:59.769344",
     "status": "completed"
    },
    "tags": []
   },
   "source": [
    "The data is composed of 58 columns and 617 entries. We can see all 58 dimensions(results will be truncated since the number of columns is big) of our dataset by printing out the first 5 entries using the following code:"
   ]
  },
  {
   "cell_type": "code",
   "execution_count": null,
   "id": "6b6fb66d",
   "metadata": {
    "execution": {
     "iopub.execute_input": "2023-06-05T10:06:59.801703Z",
     "iopub.status.busy": "2023-06-05T10:06:59.801275Z",
     "iopub.status.idle": "2023-06-05T10:06:59.853526Z",
     "shell.execute_reply": "2023-06-05T10:06:59.852210Z"
    },
    "papermill": {
     "duration": 0.066436,
     "end_time": "2023-06-05T10:06:59.855837",
     "exception": false,
     "start_time": "2023-06-05T10:06:59.789401",
     "status": "completed"
    },
    "tags": []
   },
   "outputs": [],
   "source": [
    "dataset_df.head()"
   ]
  },
  {
   "cell_type": "markdown",
   "id": "5986efef",
   "metadata": {
    "papermill": {
     "duration": 0.010987,
     "end_time": "2023-06-05T10:06:59.877649",
     "exception": false,
     "start_time": "2023-06-05T10:06:59.866662",
     "status": "completed"
    },
    "tags": []
   },
   "source": [
    "`Class` is the label column indicating if a person has one or more of any of the three medical conditions (i.e,`Class 1`), or none of the three medical conditions (i.e,`Class 0`).\n",
    "Given the features of the dataset, the goal of our model is to predict the value of `Class` for any person."
   ]
  },
  {
   "cell_type": "markdown",
   "id": "c13caadf",
   "metadata": {
    "papermill": {
     "duration": 0.009682,
     "end_time": "2023-06-05T10:06:59.897333",
     "exception": false,
     "start_time": "2023-06-05T10:06:59.887651",
     "status": "completed"
    },
    "tags": []
   },
   "source": [
    "# Quick basic dataset exploration"
   ]
  },
  {
   "cell_type": "code",
   "execution_count": null,
   "id": "91883205",
   "metadata": {
    "execution": {
     "iopub.execute_input": "2023-06-05T10:06:59.919816Z",
     "iopub.status.busy": "2023-06-05T10:06:59.919374Z",
     "iopub.status.idle": "2023-06-05T10:07:00.056685Z",
     "shell.execute_reply": "2023-06-05T10:07:00.054946Z"
    },
    "papermill": {
     "duration": 0.152203,
     "end_time": "2023-06-05T10:07:00.059730",
     "exception": false,
     "start_time": "2023-06-05T10:06:59.907527",
     "status": "completed"
    },
    "tags": []
   },
   "outputs": [],
   "source": [
    "dataset_df.describe()"
   ]
  },
  {
   "cell_type": "raw",
   "id": "c31743bc",
   "metadata": {
    "execution": {
     "iopub.execute_input": "2023-06-05T08:39:29.187811Z",
     "iopub.status.busy": "2023-06-05T08:39:29.187353Z",
     "iopub.status.idle": "2023-06-05T08:39:29.214705Z",
     "shell.execute_reply": "2023-06-05T08:39:29.213636Z",
     "shell.execute_reply.started": "2023-06-05T08:39:29.187771Z"
    },
    "papermill": {
     "duration": 0.010619,
     "end_time": "2023-06-05T10:07:00.080808",
     "exception": false,
     "start_time": "2023-06-05T10:07:00.070189",
     "status": "completed"
    },
    "tags": []
   },
   "source": [
    "dataset_df.info()"
   ]
  },
  {
   "cell_type": "markdown",
   "id": "1c466f4c",
   "metadata": {
    "papermill": {
     "duration": 0.009888,
     "end_time": "2023-06-05T10:07:00.101236",
     "exception": false,
     "start_time": "2023-06-05T10:07:00.091348",
     "status": "completed"
    },
    "tags": []
   },
   "source": [
    "## Pie chart for label column: Class"
   ]
  },
  {
   "cell_type": "code",
   "execution_count": null,
   "id": "f2b00855",
   "metadata": {
    "execution": {
     "iopub.execute_input": "2023-06-05T10:07:00.123627Z",
     "iopub.status.busy": "2023-06-05T10:07:00.123240Z",
     "iopub.status.idle": "2023-06-05T10:07:00.340561Z",
     "shell.execute_reply": "2023-06-05T10:07:00.339412Z"
    },
    "papermill": {
     "duration": 0.23214,
     "end_time": "2023-06-05T10:07:00.343498",
     "exception": false,
     "start_time": "2023-06-05T10:07:00.111358",
     "status": "completed"
    },
    "tags": []
   },
   "outputs": [],
   "source": [
    "plot_df = dataset_df.Class.value_counts()\n",
    "plot_df.plot(kind=\"pie\")"
   ]
  },
  {
   "cell_type": "markdown",
   "id": "276382c6",
   "metadata": {
    "papermill": {
     "duration": 0.010228,
     "end_time": "2023-06-05T10:07:00.365038",
     "exception": false,
     "start_time": "2023-06-05T10:07:00.354810",
     "status": "completed"
    },
    "tags": []
   },
   "source": [
    "**Important**: From the pie chart we can see that the dataset is heavily imbalanced since the fraction of positive(`1`) samples is very small compared to the negative(`0`) samples."
   ]
  },
  {
   "cell_type": "markdown",
   "id": "83bf842b",
   "metadata": {
    "papermill": {
     "duration": 0.010245,
     "end_time": "2023-06-05T10:07:00.385940",
     "exception": false,
     "start_time": "2023-06-05T10:07:00.375695",
     "status": "completed"
    },
    "tags": []
   },
   "source": [
    "# Numerical data distribution\n",
    "\n",
    "First, we will list all the numerical columns names."
   ]
  },
  {
   "cell_type": "code",
   "execution_count": null,
   "id": "64ffae51",
   "metadata": {
    "execution": {
     "iopub.execute_input": "2023-06-05T10:07:00.409698Z",
     "iopub.status.busy": "2023-06-05T10:07:00.408995Z",
     "iopub.status.idle": "2023-06-05T10:07:00.414144Z",
     "shell.execute_reply": "2023-06-05T10:07:00.413022Z"
    },
    "papermill": {
     "duration": 0.019983,
     "end_time": "2023-06-05T10:07:00.416743",
     "exception": false,
     "start_time": "2023-06-05T10:07:00.396760",
     "status": "completed"
    },
    "tags": []
   },
   "outputs": [],
   "source": [
    "# Store all the numerical column names into a list\n",
    "NUM_FEATURE_COLUMNS = [i for i in dataset_df.columns if i not in [\"Id\", \"EJ\", \"Class\"]]"
   ]
  },
  {
   "cell_type": "markdown",
   "id": "2c5e4061",
   "metadata": {
    "papermill": {
     "duration": 0.011397,
     "end_time": "2023-06-05T10:07:00.439327",
     "exception": false,
     "start_time": "2023-06-05T10:07:00.427930",
     "status": "completed"
    },
    "tags": []
   },
   "source": [
    "Let us now plot the first 6 numerical columns and their values using bar charts."
   ]
  },
  {
   "cell_type": "code",
   "execution_count": null,
   "id": "30417fdd",
   "metadata": {
    "execution": {
     "iopub.execute_input": "2023-06-05T10:07:00.463187Z",
     "iopub.status.busy": "2023-06-05T10:07:00.462813Z",
     "iopub.status.idle": "2023-06-05T10:07:22.574045Z",
     "shell.execute_reply": "2023-06-05T10:07:22.572688Z"
    },
    "papermill": {
     "duration": 22.12613,
     "end_time": "2023-06-05T10:07:22.576940",
     "exception": false,
     "start_time": "2023-06-05T10:07:00.450810",
     "status": "completed"
    },
    "tags": []
   },
   "outputs": [],
   "source": [
    "figure, axis = plt.subplots(3, 2, figsize=(15, 15))\n",
    "plt.subplots_adjust(hspace=0.25, wspace=0.3)\n",
    "\n",
    "for i, column_name in enumerate(NUM_FEATURE_COLUMNS[:6]):\n",
    "    row = i//2\n",
    "    col = i % 2\n",
    "    bp = sns.barplot(ax=axis[row, col], x=dataset_df['Id'], y=dataset_df[column_name])\n",
    "    bp.set(xticklabels=[])\n",
    "    #bp.set_xticklabels(bp.get_xticklabels(), rotation=90, size = 7)\n",
    "    axis[row, col].set_title(column_name)\n",
    "plt.show()"
   ]
  },
  {
   "cell_type": "markdown",
   "id": "fd416952",
   "metadata": {
    "papermill": {
     "duration": 0.01184,
     "end_time": "2023-06-05T10:07:22.600528",
     "exception": false,
     "start_time": "2023-06-05T10:07:22.588688",
     "status": "completed"
    },
    "tags": []
   },
   "source": [
    "We will also create a list of feature columns that will be used for training. We will drop `Id` from the list since it is not needed."
   ]
  },
  {
   "cell_type": "code",
   "execution_count": null,
   "id": "a05e2b88",
   "metadata": {
    "execution": {
     "iopub.execute_input": "2023-06-05T10:07:22.627847Z",
     "iopub.status.busy": "2023-06-05T10:07:22.627159Z",
     "iopub.status.idle": "2023-06-05T10:07:22.633046Z",
     "shell.execute_reply": "2023-06-05T10:07:22.631812Z"
    },
    "papermill": {
     "duration": 0.021328,
     "end_time": "2023-06-05T10:07:22.635088",
     "exception": false,
     "start_time": "2023-06-05T10:07:22.613760",
     "status": "completed"
    },
    "tags": []
   },
   "outputs": [],
   "source": [
    "FEATURE_COLUMNS = [i for i in dataset_df.columns if i not in [\"Id\"]]"
   ]
  },
  {
   "cell_type": "markdown",
   "id": "be161811",
   "metadata": {
    "papermill": {
     "duration": 0.011717,
     "end_time": "2023-06-05T10:07:22.658578",
     "exception": false,
     "start_time": "2023-06-05T10:07:22.646861",
     "status": "completed"
    },
    "tags": []
   },
   "source": [
    "Now let us split the dataset into training and testing datasets:"
   ]
  },
  {
   "cell_type": "markdown",
   "id": "ebb8e4c1",
   "metadata": {
    "papermill": {
     "duration": 0.011275,
     "end_time": "2023-06-05T10:07:22.681496",
     "exception": false,
     "start_time": "2023-06-05T10:07:22.670221",
     "status": "completed"
    },
    "tags": []
   },
   "source": [
    "# KFold validation\n",
    "\n",
    "We will use KFold cross validation for training this model since the normal train/test split training won't be enough to acheive decent score.\n",
    "\n",
    "We will split the dataset into 5 consecutive folds. Each fold is then used once as a validation set while the 4 (5-1) remaining folds form the training set.\n",
    "\n",
    "Read more about KFold [here](https://scikit-learn.org/stable/modules/generated/sklearn.model_selection.KFold.html)."
   ]
  },
  {
   "cell_type": "code",
   "execution_count": null,
   "id": "63150ebd",
   "metadata": {
    "execution": {
     "iopub.execute_input": "2023-06-05T10:07:22.708211Z",
     "iopub.status.busy": "2023-06-05T10:07:22.707785Z",
     "iopub.status.idle": "2023-06-05T10:07:22.713271Z",
     "shell.execute_reply": "2023-06-05T10:07:22.711938Z"
    },
    "papermill": {
     "duration": 0.022761,
     "end_time": "2023-06-05T10:07:22.716088",
     "exception": false,
     "start_time": "2023-06-05T10:07:22.693327",
     "status": "completed"
    },
    "tags": []
   },
   "outputs": [],
   "source": [
    "# Creates a GroupKFold with 5 splits\n",
    "kf = KFold(n_splits=5)"
   ]
  },
  {
   "cell_type": "markdown",
   "id": "fd071faa",
   "metadata": {
    "papermill": {
     "duration": 0.010501,
     "end_time": "2023-06-05T10:07:22.737964",
     "exception": false,
     "start_time": "2023-06-05T10:07:22.727463",
     "status": "completed"
    },
    "tags": []
   },
   "source": [
    "# Out of Fold (OOF)\n",
    "\n",
    "During KFold cross validation, the predictions made on the test set of each fold is known as Out of Fold(OOF) predictions. We will estimate the performance of the model using the predictions made across all the k (5 in this example) folds.\n",
    "\n",
    "For our training loop, we will create a pandas dataframe named `oof` to store the predictions of the validation set during each fold."
   ]
  },
  {
   "cell_type": "code",
   "execution_count": null,
   "id": "3a073ce6",
   "metadata": {
    "execution": {
     "iopub.execute_input": "2023-06-05T10:07:22.764945Z",
     "iopub.status.busy": "2023-06-05T10:07:22.764538Z",
     "iopub.status.idle": "2023-06-05T10:07:22.771959Z",
     "shell.execute_reply": "2023-06-05T10:07:22.770112Z"
    },
    "papermill": {
     "duration": 0.023383,
     "end_time": "2023-06-05T10:07:22.774169",
     "exception": false,
     "start_time": "2023-06-05T10:07:22.750786",
     "status": "completed"
    },
    "tags": []
   },
   "outputs": [],
   "source": [
    "# Create list of ids for the creation of oof dataframe.\n",
    "ID_LIST = dataset_df.index\n",
    "\n",
    "# Create a dataframe of required size with zero values.\n",
    "oof = pd.DataFrame(data=np.zeros((len(ID_LIST),1)), index=ID_LIST)\n",
    "\n",
    "# Create an empty dictionary to store the models trained for each fold.\n",
    "models = {}\n",
    "\n",
    "# Create empty dict to save metircs for the models trained for each fold.\n",
    "accuracy = {}\n",
    "cross_entropy = {}\n",
    "\n",
    "# Save the name of the label column to a variable.\n",
    "label = \"Class\""
   ]
  },
  {
   "cell_type": "markdown",
   "id": "ed9ca72e",
   "metadata": {
    "papermill": {
     "duration": 0.010753,
     "end_time": "2023-06-05T10:07:22.796746",
     "exception": false,
     "start_time": "2023-06-05T10:07:22.785993",
     "status": "completed"
    },
    "tags": []
   },
   "source": [
    "# Select a Model\n",
    "\n",
    "There are several tree-based models for you to choose from.\n",
    "\n",
    "* RandomForestModel\n",
    "* GradientBoostedTreesModel\n",
    "* CartModel\n",
    "* DistributedGradientBoostedTreesModel\n",
    "\n",
    "To start, we'll work with a Random Forest. This is the most well-known of the Decision Forest training algorithms.\n",
    "\n",
    "A Random Forest is a collection of decision trees, each trained independently on a random subset of the training dataset (sampled with replacement). The algorithm is unique in that it is robust to overfitting, and easy to use.\n",
    "\n",
    "We can list the all the available models in TensorFlow Decision Forests using the following code:"
   ]
  },
  {
   "cell_type": "code",
   "execution_count": null,
   "id": "38294699",
   "metadata": {
    "execution": {
     "iopub.execute_input": "2023-06-05T10:07:22.820826Z",
     "iopub.status.busy": "2023-06-05T10:07:22.820223Z",
     "iopub.status.idle": "2023-06-05T10:07:22.826783Z",
     "shell.execute_reply": "2023-06-05T10:07:22.825878Z"
    },
    "papermill": {
     "duration": 0.020974,
     "end_time": "2023-06-05T10:07:22.828747",
     "exception": false,
     "start_time": "2023-06-05T10:07:22.807773",
     "status": "completed"
    },
    "tags": []
   },
   "outputs": [],
   "source": [
    "tfdf.keras.get_all_models()"
   ]
  },
  {
   "cell_type": "markdown",
   "id": "a71356c0",
   "metadata": {
    "papermill": {
     "duration": 0.011792,
     "end_time": "2023-06-05T10:07:22.853814",
     "exception": false,
     "start_time": "2023-06-05T10:07:22.842022",
     "status": "completed"
    },
    "tags": []
   },
   "source": [
    "# How can I configure them?\n",
    "\n",
    "TensorFlow Decision Forests provides good defaults for you (e.g. the top ranking hyperparameters on our benchmarks, slightly modified to run in reasonable time). If you would like to configure the learning algorithm, you will find many options you can explore to get a better score.\n",
    "\n",
    "You can select a template and/or set parameters as follows:\n",
    "\n",
    "```rf = tfdf.keras.RandomForestModel(hyperparameter_template=\"benchmark_rank1\")```\n",
    "\n",
    "Read more [here](https://www.tensorflow.org/decision_forests/api_docs/python/tfdf/keras/RandomForestModel)."
   ]
  },
  {
   "cell_type": "markdown",
   "id": "d6d1a1cf",
   "metadata": {
    "papermill": {
     "duration": 0.011569,
     "end_time": "2023-06-05T10:07:22.877579",
     "exception": false,
     "start_time": "2023-06-05T10:07:22.866010",
     "status": "completed"
    },
    "tags": []
   },
   "source": [
    "# Hyperparameter tuning to avoid overfitting\n",
    "\n",
    "Because of the smaller size of the dataset, it is likely that the model will overfit during training.\n",
    "Numerous parameters, primarily `max_depth` and `num_trees` can be changed to fine-tune the model and prevent overfitting.\n",
    "\n",
    "The attribute`max_depth` indicates the maximum depth of the tree. To avoid overfitting, we can try to reduce the depth of the tree from it's default value, which is `16`. Another way to tackle overfitting is to increase the number of individual decision trees. To do this, we have to increase the value of the parameter `num_trees` from its default value(`300`).\n",
    "\n",
    "You can set these parameters as follows:\n",
    "\n",
    "```rf = tfdf.keras.RandomForestModel(max_depth=5, num_trees=500)```"
   ]
  },
  {
   "cell_type": "markdown",
   "id": "dd530b96",
   "metadata": {
    "papermill": {
     "duration": 0.011666,
     "end_time": "2023-06-05T10:07:22.901188",
     "exception": false,
     "start_time": "2023-06-05T10:07:22.889522",
     "status": "completed"
    },
    "tags": []
   },
   "source": [
    "# Strategies to handle the dataset imbalance\n",
    "\n",
    "Let's examine the fraction of positive and negative samples in this dataset's  by examining the`Class` column."
   ]
  },
  {
   "cell_type": "code",
   "execution_count": null,
   "id": "6f83ab19",
   "metadata": {
    "execution": {
     "iopub.execute_input": "2023-06-05T10:07:22.926377Z",
     "iopub.status.busy": "2023-06-05T10:07:22.926017Z",
     "iopub.status.idle": "2023-06-05T10:07:22.932747Z",
     "shell.execute_reply": "2023-06-05T10:07:22.930967Z"
    },
    "papermill": {
     "duration": 0.022113,
     "end_time": "2023-06-05T10:07:22.935221",
     "exception": false,
     "start_time": "2023-06-05T10:07:22.913108",
     "status": "completed"
    },
    "tags": []
   },
   "outputs": [],
   "source": [
    "# Calculate the number of negative and positive values in `Class` column\n",
    "neg, pos = np.bincount(dataset_df['Class'])\n",
    "# Calculate total samples\n",
    "total = neg + pos\n",
    "print('Examples:\\n    Total: {}\\n    Positive: {} ({:.2f}% of total)\\n'.format(\n",
    "    total, pos, 100 * pos / total))"
   ]
  },
  {
   "cell_type": "markdown",
   "id": "fd9c128d",
   "metadata": {
    "papermill": {
     "duration": 0.010919,
     "end_time": "2023-06-05T10:07:22.958506",
     "exception": false,
     "start_time": "2023-06-05T10:07:22.947587",
     "status": "completed"
    },
    "tags": []
   },
   "source": [
    "As we can see, positive samples only account for 17.50% of the data. This means that our datastet is heavily imbalanced.\n",
    "\n",
    "In classification problems with imbalanced datasets, a model tends to be more biased towards the majority class leading to the model performing poorly on the samples belonging to the minority class."
   ]
  },
  {
   "cell_type": "markdown",
   "id": "a8761470",
   "metadata": {
    "papermill": {
     "duration": 0.011019,
     "end_time": "2023-06-05T10:07:22.980750",
     "exception": false,
     "start_time": "2023-06-05T10:07:22.969731",
     "status": "completed"
    },
    "tags": []
   },
   "source": [
    "There are many techniques for dealing with imbalanced data. The most suitable techniques for this dataset are:\n",
    "\n",
    "* Undersampling\n",
    "* Class weighting\n",
    "\n",
    "In this notebook we will use **Class weighting** to deal with imbalanced data. But first, we will quickly outline how undersampling can be performed."
   ]
  },
  {
   "cell_type": "markdown",
   "id": "1c5bec34",
   "metadata": {
    "papermill": {
     "duration": 0.011192,
     "end_time": "2023-06-05T10:07:23.003058",
     "exception": false,
     "start_time": "2023-06-05T10:07:22.991866",
     "status": "completed"
    },
    "tags": []
   },
   "source": [
    "# Undersampling\n",
    "\n",
    "One approach to deal with an imbalanced dataset would be to under-sample the majority class(es) by choosing a smaller subset of the majority class samples(negative or `0` class in this case) from the dataset rather than picking the entire data.\n",
    "\n",
    "Note: You have to loop through the dataset and try different random subsets for a better score.\n",
    "\n",
    "The code snippet below illustrates how to perform undersampling.\n",
    "\n",
    "```\n",
    "# This function generates undersampled dataset.\n",
    "def random_under_sampler(df):\n",
    "    # Calculate the number of samples for each label. \n",
    "    neg, pos = np.bincount(df['Class'])\n",
    "\n",
    "    # Choose the samples with class label `1`.\n",
    "    one_df = df.loc[df['Class'] == 1] \n",
    "    # Choose the samples with class label `0`.\n",
    "    zero_df = df.loc[df['Class'] == 0]\n",
    "    # Select `pos` number of negative samples.\n",
    "    # This makes sure that we have equal number of samples for each label.\n",
    "    zero_df = zero_df.sample(n=pos)\n",
    "\n",
    "    # Join both label dataframes.\n",
    "    undersampled_df = pd.concat([zero_df, one_df])\n",
    "\n",
    "    # Shuffle the data and return\n",
    "    return undersampled_df.sample(frac = 1)\n",
    "```"
   ]
  },
  {
   "cell_type": "markdown",
   "id": "3cedf05d",
   "metadata": {
    "papermill": {
     "duration": 0.011687,
     "end_time": "2023-06-05T10:07:23.028226",
     "exception": false,
     "start_time": "2023-06-05T10:07:23.016539",
     "status": "completed"
    },
    "tags": []
   },
   "source": [
    "# Class weighting\n",
    "\n",
    "Since the postive(`1`) `Class` labels are only a small fraction of the dataset, we would want the classifier to heavily weight those examples. You can do this by passing **Keras weights** for each class through a parameter. This will cause the model to \"pay more attention\" to examples from an under-represented class. Read more about class weights [here](https://www.tensorflow.org/tutorials/structured_data/imbalanced_data#class_weights)."
   ]
  },
  {
   "cell_type": "code",
   "execution_count": null,
   "id": "607e6066",
   "metadata": {
    "execution": {
     "iopub.execute_input": "2023-06-05T10:07:23.055826Z",
     "iopub.status.busy": "2023-06-05T10:07:23.055438Z",
     "iopub.status.idle": "2023-06-05T10:07:23.064334Z",
     "shell.execute_reply": "2023-06-05T10:07:23.062776Z"
    },
    "papermill": {
     "duration": 0.027782,
     "end_time": "2023-06-05T10:07:23.068319",
     "exception": false,
     "start_time": "2023-06-05T10:07:23.040537",
     "status": "completed"
    },
    "tags": []
   },
   "outputs": [],
   "source": [
    "# Calculate the number of samples for each label.\n",
    "neg, pos = np.bincount(dataset_df['Class'])\n",
    "\n",
    "# Calculate total samples.\n",
    "total = neg + pos\n",
    "\n",
    "# Calculate the weight for each label.\n",
    "weight_for_0 = (1 / neg) * (total / 2.0)\n",
    "weight_for_1 = (1 / pos) * (total / 2.0)\n",
    "\n",
    "class_weight = {0: weight_for_0, 1: weight_for_1}\n",
    "\n",
    "print('Weight for class 0: {:.2f}'.format(weight_for_0))\n",
    "print('Weight for class 1: {:.2f}'.format(weight_for_1))"
   ]
  },
  {
   "cell_type": "markdown",
   "id": "00834fc6",
   "metadata": {
    "papermill": {
     "duration": 0.012678,
     "end_time": "2023-06-05T10:07:23.095382",
     "exception": false,
     "start_time": "2023-06-05T10:07:23.082704",
     "status": "completed"
    },
    "tags": []
   },
   "source": [
    "To train and evaluate the models using class weights, use the dict in model.fit() as an argument as shown below.\n",
    "\n",
    "```model.fit(x=train_ds, class_weight=class_weight)```"
   ]
  },
  {
   "cell_type": "markdown",
   "id": "c78bc14e",
   "metadata": {
    "papermill": {
     "duration": 0.012648,
     "end_time": "2023-06-05T10:07:23.122094",
     "exception": false,
     "start_time": "2023-06-05T10:07:23.109446",
     "status": "completed"
    },
    "tags": []
   },
   "source": [
    "# Train Random Forest Model\n",
    "\n",
    "Today, we will use the defaults to create the Random Forest Model. By default the model is set to train for a classification task.\n",
    "We will train a model for each fold and after training we will store the model and metrics. Here, we have chosen `accuracy` and `binary_crossentropy` as the metrics."
   ]
  },
  {
   "cell_type": "code",
   "execution_count": null,
   "id": "944c2df3",
   "metadata": {
    "execution": {
     "iopub.execute_input": "2023-06-05T10:07:23.153345Z",
     "iopub.status.busy": "2023-06-05T10:07:23.152482Z",
     "iopub.status.idle": "2023-06-05T10:07:41.455304Z",
     "shell.execute_reply": "2023-06-05T10:07:41.454386Z"
    },
    "papermill": {
     "duration": 18.323491,
     "end_time": "2023-06-05T10:07:41.457980",
     "exception": false,
     "start_time": "2023-06-05T10:07:23.134489",
     "status": "completed"
    },
    "tags": []
   },
   "outputs": [],
   "source": [
    "# Loop through each fold\n",
    "for i, (train_index, valid_index) in enumerate(kf.split(X=dataset_df)):\n",
    "        print('##### Fold',i+1)\n",
    "\n",
    "        # Fetch values corresponding to the index \n",
    "        train_df = dataset_df.iloc[train_index]\n",
    "        valid_df = dataset_df.iloc[valid_index]\n",
    "        valid_ids = valid_df.index.values\n",
    "        \n",
    "        # Select only feature columns for training.\n",
    "        train_df = train_df[FEATURE_COLUMNS]\n",
    "        valid_df = valid_df[FEATURE_COLUMNS]\n",
    "        \n",
    "        # There's one more step required before we can train the model. \n",
    "        # We need to convert the datatset from Pandas format (pd.DataFrame)\n",
    "        # into TensorFlow Datasets format (tf.data.Dataset).\n",
    "        # TensorFlow Datasets is a high performance data loading library \n",
    "        # which is helpful when training neural networks with accelerators like GPUs and TPUs.\n",
    "        # Note: Some column names contains white spaces at the end of their name, \n",
    "        # which is non-comaptible with SavedModels save format. \n",
    "        # By default, `pd_dataframe_to_tf_dataset` function will convert \n",
    "        # this column names into a compatible format. \n",
    "        # So you can safely ignore the warnings related to this.\n",
    "        train_ds = tfdf.keras.pd_dataframe_to_tf_dataset(train_df, label=label)\n",
    "        valid_ds = tfdf.keras.pd_dataframe_to_tf_dataset(valid_df, label=label)\n",
    "\n",
    "        # Define the model and metrics\n",
    "        rf = tfdf.keras.RandomForestModel()\n",
    "        rf.compile(metrics=[\"accuracy\", \"binary_crossentropy\"]) \n",
    "        \n",
    "        # Train the model\n",
    "        # We will train the model using a one-liner.\n",
    "        # Note: you may see a warning about Autograph. \n",
    "        # You can safely ignore this, it will be fixed in the next release.\n",
    "        # Previously calculated class weights is used to handle imbalance.\n",
    "        rf.fit(x=train_ds, class_weight=class_weight)\n",
    "        \n",
    "        # Store the model\n",
    "        models[f\"fold_{i+1}\"] = rf\n",
    "        \n",
    "        \n",
    "        # Predict OOF value for validation data\n",
    "        predict = rf.predict(x=valid_ds)\n",
    "        \n",
    "        # Store the predictions in oof dataframe\n",
    "        oof.loc[valid_ids, 0] = predict.flatten() \n",
    "        \n",
    "        # Evaluate and store the metrics in respective dicts\n",
    "        evaluation = rf.evaluate(x=valid_ds,return_dict=True)\n",
    "        accuracy[f\"fold_{i+1}\"] = evaluation[\"accuracy\"]\n",
    "        cross_entropy[f\"fold_{i+1}\"]= evaluation[\"binary_crossentropy\"]"
   ]
  },
  {
   "cell_type": "markdown",
   "id": "5ba61b46",
   "metadata": {
    "papermill": {
     "duration": 0.016015,
     "end_time": "2023-06-05T10:07:41.490218",
     "exception": false,
     "start_time": "2023-06-05T10:07:41.474203",
     "status": "completed"
    },
    "tags": []
   },
   "source": [
    "# Visualize the model\n",
    "One benefit of tree-based models is that we can easily visualize them. The default number of trees used in the Random Forests is 300. We can select any tree for display.\n",
    "\n",
    "Let us pick one model from the `models` dict and select a tree for display."
   ]
  },
  {
   "cell_type": "code",
   "execution_count": null,
   "id": "9ef25992",
   "metadata": {
    "execution": {
     "iopub.execute_input": "2023-06-05T10:07:41.524686Z",
     "iopub.status.busy": "2023-06-05T10:07:41.523674Z",
     "iopub.status.idle": "2023-06-05T10:07:41.537371Z",
     "shell.execute_reply": "2023-06-05T10:07:41.536431Z"
    },
    "papermill": {
     "duration": 0.033159,
     "end_time": "2023-06-05T10:07:41.539260",
     "exception": false,
     "start_time": "2023-06-05T10:07:41.506101",
     "status": "completed"
    },
    "tags": []
   },
   "outputs": [],
   "source": [
    "tfdf.model_plotter.plot_model_in_colab(models['fold_1'], tree_idx=0, max_depth=3)"
   ]
  },
  {
   "cell_type": "markdown",
   "id": "b8f81963",
   "metadata": {
    "papermill": {
     "duration": 0.015923,
     "end_time": "2023-06-05T10:07:41.571370",
     "exception": false,
     "start_time": "2023-06-05T10:07:41.555447",
     "status": "completed"
    },
    "tags": []
   },
   "source": [
    "# Evaluate the model on the Out of bag (OOB) data and the validation dataset\n",
    "\n",
    "Before training, we have manually seperated 20% of the dataset for validation named as `valid_ds`.\n",
    "\n",
    "We can also use Out of bag (OOB) score to validate our RandomForestModel.\n",
    "To train a Random Forest Model, a set of random samples from training set are choosen by the algorithm and the rest of the samples are used to finetune the model. The subset of data that is not chosen is known as Out of bag data (OOB).\n",
    "OOB score is computed on the OOB data.\n",
    "\n",
    "Read more about OOB data [here](https://developers.google.com/machine-learning/decision-forests/out-of-bag).\n",
    "\n",
    "The training logs show the `binary_crossentropy` evaluated on the out of bag dataset according to the number of trees in the model. Let us plot this for the models of each fold.\n",
    "\n",
    "Note: Smaller values are better for this hyperparameter."
   ]
  },
  {
   "cell_type": "code",
   "execution_count": null,
   "id": "4a63c788",
   "metadata": {
    "execution": {
     "iopub.execute_input": "2023-06-05T10:07:41.606531Z",
     "iopub.status.busy": "2023-06-05T10:07:41.606190Z",
     "iopub.status.idle": "2023-06-05T10:07:42.411918Z",
     "shell.execute_reply": "2023-06-05T10:07:42.409789Z"
    },
    "papermill": {
     "duration": 0.826421,
     "end_time": "2023-06-05T10:07:42.414531",
     "exception": false,
     "start_time": "2023-06-05T10:07:41.588110",
     "status": "completed"
    },
    "tags": []
   },
   "outputs": [],
   "source": [
    "figure, axis = plt.subplots(3, 2, figsize=(10, 10))\n",
    "plt.subplots_adjust(hspace=0.5, wspace=0.3)\n",
    "\n",
    "for i, fold_no in enumerate(models.keys()):\n",
    "    row = i//2\n",
    "    col = i % 2\n",
    "    logs = models[fold_no].make_inspector().training_logs()\n",
    "    axis[row, col].plot([log.num_trees for log in logs], [log.evaluation.loss for log in logs])\n",
    "    axis[row, col].set_title(f\"Fold {i+1}\")\n",
    "    axis[row, col].set_xlabel('Number of trees')\n",
    "    axis[row, col].set_ylabel('Loss (out-of-bag)')\n",
    "\n",
    "axis[2][1].set_visible(False)\n",
    "plt.show()"
   ]
  },
  {
   "cell_type": "markdown",
   "id": "c672ed97",
   "metadata": {
    "papermill": {
     "duration": 0.016909,
     "end_time": "2023-06-05T10:07:42.448588",
     "exception": false,
     "start_time": "2023-06-05T10:07:42.431679",
     "status": "completed"
    },
    "tags": []
   },
   "source": [
    "We can also see some general stats on the OOB dataset:"
   ]
  },
  {
   "cell_type": "code",
   "execution_count": null,
   "id": "20c6dcb9",
   "metadata": {
    "execution": {
     "iopub.execute_input": "2023-06-05T10:07:42.487313Z",
     "iopub.status.busy": "2023-06-05T10:07:42.486898Z",
     "iopub.status.idle": "2023-06-05T10:07:42.503092Z",
     "shell.execute_reply": "2023-06-05T10:07:42.501065Z"
    },
    "papermill": {
     "duration": 0.038262,
     "end_time": "2023-06-05T10:07:42.505631",
     "exception": false,
     "start_time": "2023-06-05T10:07:42.467369",
     "status": "completed"
    },
    "tags": []
   },
   "outputs": [],
   "source": [
    "for _model in models:\n",
    "    inspector = models[_model].make_inspector()\n",
    "    print(_model, inspector.evaluation())"
   ]
  },
  {
   "cell_type": "markdown",
   "id": "1e075c8f",
   "metadata": {
    "papermill": {
     "duration": 0.016889,
     "end_time": "2023-06-05T10:07:42.540152",
     "exception": false,
     "start_time": "2023-06-05T10:07:42.523263",
     "status": "completed"
    },
    "tags": []
   },
   "source": [
    "Now, let us check the evaluation metrics for each fold and its average value."
   ]
  },
  {
   "cell_type": "code",
   "execution_count": null,
   "id": "b1eb9e8a",
   "metadata": {
    "execution": {
     "iopub.execute_input": "2023-06-05T10:07:42.578206Z",
     "iopub.status.busy": "2023-06-05T10:07:42.577840Z",
     "iopub.status.idle": "2023-06-05T10:07:42.583977Z",
     "shell.execute_reply": "2023-06-05T10:07:42.583019Z"
    },
    "papermill": {
     "duration": 0.0284,
     "end_time": "2023-06-05T10:07:42.586702",
     "exception": false,
     "start_time": "2023-06-05T10:07:42.558302",
     "status": "completed"
    },
    "tags": []
   },
   "outputs": [],
   "source": [
    "average_loss = 0\n",
    "average_acc = 0\n",
    "\n",
    "for _model in  models:\n",
    "    average_loss += cross_entropy[_model]\n",
    "    average_acc += accuracy[_model]\n",
    "    print(f\"{_model}: acc: {accuracy[_model]:.4f} loss: {cross_entropy[_model]:.4f}\")\n",
    "\n",
    "print(f\"\\nAverage accuracy: {average_acc/5:.4f}  Average loss: {average_loss/5:.4f}\")"
   ]
  },
  {
   "cell_type": "markdown",
   "id": "fe337a2d",
   "metadata": {
    "papermill": {
     "duration": 0.016172,
     "end_time": "2023-06-05T10:07:42.619965",
     "exception": false,
     "start_time": "2023-06-05T10:07:42.603793",
     "status": "completed"
    },
    "tags": []
   },
   "source": [
    "# Variable importances\n",
    "\n",
    "Variable importances generally indicate how much a feature contributes to the model predictions or quality. There are several ways to identify important features using TensorFlow Decision Forests. Let us pick one model from models dict and inspect it.\n",
    "\n",
    "Let us list the available `Variable Importances` for Decision Trees:"
   ]
  },
  {
   "cell_type": "code",
   "execution_count": null,
   "id": "a7bf7857",
   "metadata": {
    "execution": {
     "iopub.execute_input": "2023-06-05T10:07:42.657300Z",
     "iopub.status.busy": "2023-06-05T10:07:42.656957Z",
     "iopub.status.idle": "2023-06-05T10:07:42.667086Z",
     "shell.execute_reply": "2023-06-05T10:07:42.665739Z"
    },
    "papermill": {
     "duration": 0.031159,
     "end_time": "2023-06-05T10:07:42.669265",
     "exception": false,
     "start_time": "2023-06-05T10:07:42.638106",
     "status": "completed"
    },
    "tags": []
   },
   "outputs": [],
   "source": [
    "inspector = models['fold_1'].make_inspector()\n",
    "\n",
    "print(f\"Available variable importances:\")\n",
    "for importance in inspector.variable_importances().keys():\n",
    "  print(\"\\t\", importance)"
   ]
  },
  {
   "cell_type": "markdown",
   "id": "e7eb6fe4",
   "metadata": {
    "papermill": {
     "duration": 0.0184,
     "end_time": "2023-06-05T10:07:42.705094",
     "exception": false,
     "start_time": "2023-06-05T10:07:42.686694",
     "status": "completed"
    },
    "tags": []
   },
   "source": [
    "As an example, let us display the important features for the Variable Importance `NUM_AS_ROOT`.\n",
    "\n",
    "The larger the importance score for `NUM_AS_ROOT`, the more impact it has on the outcome of the model.\n",
    "\n",
    "By default, the list is sorted from the most important to the least. From the output you can infer that the feature at the top of the list is used as the root node in most number of trees in the random forest than any other feature."
   ]
  },
  {
   "cell_type": "code",
   "execution_count": null,
   "id": "b2854e2e",
   "metadata": {
    "execution": {
     "iopub.execute_input": "2023-06-05T10:07:42.741880Z",
     "iopub.status.busy": "2023-06-05T10:07:42.741472Z",
     "iopub.status.idle": "2023-06-05T10:07:42.749400Z",
     "shell.execute_reply": "2023-06-05T10:07:42.748440Z"
    },
    "papermill": {
     "duration": 0.028851,
     "end_time": "2023-06-05T10:07:42.751331",
     "exception": false,
     "start_time": "2023-06-05T10:07:42.722480",
     "status": "completed"
    },
    "tags": []
   },
   "outputs": [],
   "source": [
    "# Each line is: (feature name, (index of the feature), importance score)\n",
    "inspector.variable_importances()[\"NUM_AS_ROOT\"]"
   ]
  },
  {
   "cell_type": "markdown",
   "id": "cacfd997",
   "metadata": {
    "papermill": {
     "duration": 0.017155,
     "end_time": "2023-06-05T10:07:42.785633",
     "exception": false,
     "start_time": "2023-06-05T10:07:42.768478",
     "status": "completed"
    },
    "tags": []
   },
   "source": [
    "# Submission"
   ]
  },
  {
   "cell_type": "code",
   "execution_count": null,
   "id": "c3f990dc",
   "metadata": {
    "execution": {
     "iopub.execute_input": "2023-06-05T10:07:42.822000Z",
     "iopub.status.busy": "2023-06-05T10:07:42.821592Z",
     "iopub.status.idle": "2023-06-05T10:07:43.009099Z",
     "shell.execute_reply": "2023-06-05T10:07:43.007350Z"
    },
    "papermill": {
     "duration": 0.20889,
     "end_time": "2023-06-05T10:07:43.011937",
     "exception": false,
     "start_time": "2023-06-05T10:07:42.803047",
     "status": "completed"
    },
    "tags": []
   },
   "outputs": [],
   "source": [
    "test_ds_pd = test_df\n",
    "test_df_columns = test_ds_pd.columns.tolist()\n",
    "TEST_FEATURE_COLUMNS = [i for i in FEATURE_COLUMNS \\\n",
    "                        if i in test_df_columns and i != \"Class\"]\n",
    "test_ds_pd = test_ds_pd[TEST_FEATURE_COLUMNS]\n",
    "test_ds = tfdf.keras.pd_dataframe_to_tf_dataset(test_ds_pd)\n",
    "predictions = models['fold_1'].predict(test_ds)\n",
    "n_predictions= [[round(abs(i-1), 8), i] for i in predictions.ravel()]\n",
    "print(n_predictions)"
   ]
  },
  {
   "cell_type": "code",
   "execution_count": null,
   "id": "5f930754",
   "metadata": {
    "execution": {
     "iopub.execute_input": "2023-06-05T10:07:43.051548Z",
     "iopub.status.busy": "2023-06-05T10:07:43.051086Z",
     "iopub.status.idle": "2023-06-05T10:07:43.069391Z",
     "shell.execute_reply": "2023-06-05T10:07:43.068239Z"
    },
    "papermill": {
     "duration": 0.042,
     "end_time": "2023-06-05T10:07:43.072071",
     "exception": false,
     "start_time": "2023-06-05T10:07:43.030071",
     "status": "completed"
    },
    "tags": []
   },
   "outputs": [],
   "source": [
    "sample_submission = pd.read_csv(\"data/sample_submission.csv\")\n",
    "sample_submission[['class_0', 'class_1']] = n_predictions\n",
    "sample_submission.to_csv('/submission.csv', index=False)"
   ]
  },
  {
   "cell_type": "code",
   "execution_count": null,
   "id": "1754a449",
   "metadata": {},
   "outputs": [],
   "source": []
  }
 ],
 "metadata": {
  "kernelspec": {
   "display_name": "Python 3 (ipykernel)",
   "language": "python",
   "name": "python3"
  },
  "language_info": {
   "codemirror_mode": {
    "name": "ipython",
    "version": 3
   },
   "file_extension": ".py",
   "mimetype": "text/x-python",
   "name": "python",
   "nbconvert_exporter": "python",
   "pygments_lexer": "ipython3",
   "version": "3.11.2"
  },
  "papermill": {
   "default_parameters": {},
   "duration": 71.390601,
   "end_time": "2023-06-05T10:07:45.711132",
   "environment_variables": {},
   "exception": null,
   "input_path": "__notebook__.ipynb",
   "output_path": "__notebook__.ipynb",
   "parameters": {},
   "start_time": "2023-06-05T10:06:34.320531",
   "version": "2.4.0"
  }
 },
 "nbformat": 4,
 "nbformat_minor": 5
}
