{
 "cells": [
  {
   "cell_type": "code",
   "execution_count": 1,
   "id": "674b4323",
   "metadata": {
    "execution": {
     "iopub.execute_input": "2023-06-15T16:53:26.978230Z",
     "iopub.status.busy": "2023-06-15T16:53:26.977435Z",
     "iopub.status.idle": "2023-06-15T16:53:30.062699Z",
     "shell.execute_reply": "2023-06-15T16:53:30.061690Z"
    },
    "papermill": {
     "duration": 3.091792,
     "end_time": "2023-06-15T16:53:30.065763",
     "exception": false,
     "start_time": "2023-06-15T16:53:26.973971",
     "status": "completed"
    },
    "tags": []
   },
   "outputs": [],
   "source": [
    "import pandas as pd\n",
    "from sklearn.ensemble import GradientBoostingRegressor\n",
    "\n",
    "train_data = pd.read_csv('/kaggle/input/house-prices-advanced-regression-techniques/train.csv')\n",
    "y = train_data.SalePrice\n",
    "train_data.drop(['SalePrice'], axis=1, inplace=True)\n",
    "\n",
    "test_data = pd.read_csv('/kaggle/input/house-prices-advanced-regression-techniques/test.csv')\n",
    "test_ids = test_data.Id\n",
    "\n",
    "def preprocess(df):\n",
    "    df.drop(['Id', 'Alley', 'FireplaceQu', 'PoolQC', 'Fence', 'MiscFeature'], axis=1, inplace=True)\n",
    "    for col in df.columns:\n",
    "        if df[col].dtype == 'object': df[col].fillna('Unknown', inplace=True)\n",
    "        else:\n",
    "            avg = df[col].median().astype(int)\n",
    "            df[col].fillna(avg, inplace=True)\n",
    "\n",
    "preprocess(train_data)\n",
    "preprocess(test_data)\n",
    "\n",
    "combined_df = pd.concat([train_data, test_data])\n",
    "combined_encoded = pd.get_dummies(combined_df)\n",
    "X = combined_encoded[:len(train_data)]\n",
    "X_test = combined_encoded[len(train_data):]\n",
    "\n",
    "gbr = GradientBoostingRegressor().fit(X, y)\n",
    "pd.DataFrame({'Id': test_ids, 'SalePrice': gbr.predict(X_test)}).to_csv(f'output.csv', index=False)"
   ]
  }
 ],
 "metadata": {
  "kernelspec": {
   "display_name": "Python 3 (ipykernel)",
   "language": "python",
   "name": "python3"
  },
  "language_info": {
   "codemirror_mode": {
    "name": "ipython",
    "version": 3
   },
   "file_extension": ".py",
   "mimetype": "text/x-python",
   "name": "python",
   "nbconvert_exporter": "python",
   "pygments_lexer": "ipython3",
   "version": "3.11.2"
  },
  "papermill": {
   "default_parameters": {},
   "duration": 13.963422,
   "end_time": "2023-06-15T16:53:30.992163",
   "environment_variables": {},
   "exception": null,
   "input_path": "__notebook__.ipynb",
   "output_path": "__notebook__.ipynb",
   "parameters": {},
   "start_time": "2023-06-15T16:53:17.028741",
   "version": "2.4.0"
  }
 },
 "nbformat": 4,
 "nbformat_minor": 5
}
